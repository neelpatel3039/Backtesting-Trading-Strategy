{
 "cells": [
  {
   "cell_type": "markdown",
   "id": "70f47d9b-f737-42e8-980e-b340cca3753f",
   "metadata": {
    "jp-MarkdownHeadingCollapsed": true
   },
   "source": [
    "## <span style=\"color: blue;\">1️⃣ <b><u>Import Libraries</u></b> </span>"
   ]
  },
  {
   "cell_type": "code",
   "execution_count": 432,
   "id": "28424601-7dc0-40ca-92c9-0f2e43ba9686",
   "metadata": {},
   "outputs": [],
   "source": [
    "import yfinance as yf\n",
    "import matplotlib.pyplot as plt\n",
    "from datetime import datetime as dt\n",
    "import numpy as np\n",
    "import pandas as pd\n",
    "from backtesting import Backtest, Strategy\n",
    "from backtesting.lib import crossover\n",
    "from backtesting.test import GOOG\n",
    "from pandas_datareader import data as web\n",
    "import talib\n",
    "\n",
    "import warnings\n",
    "warnings.filterwarnings('ignore')"
   ]
  },
  {
   "cell_type": "markdown",
   "id": "9b4d933a-c565-4de4-844e-f20486cbda8d",
   "metadata": {
    "jp-MarkdownHeadingCollapsed": true
   },
   "source": [
    "## <span style=\"color: green;\">2️⃣ <b><u>Pull Data From Yahoo Finance</u></b></span>"
   ]
  },
  {
   "cell_type": "code",
   "execution_count": 434,
   "id": "62147ccb-2f2d-405b-9845-35a181433cfc",
   "metadata": {},
   "outputs": [],
   "source": [
    "# Define the function to get stock data\n",
    "def get_stock_data(ticker, start_date, end_date, interval):\n",
    "    df = yf.download(ticker, start=start_date, end=end_date, interval=interval)\n",
    "    df.dropna(inplace=True)\n",
    "    \n",
    "    # Drop the 'Adj Close' column if it exists\n",
    "    if 'Adj Close' in df.columns:\n",
    "        df.drop(columns=['Adj Close'], inplace=True)\n",
    "    \n",
    "    # Ensure single-level column names\n",
    "    df.columns = df.columns.get_level_values(0)  # Flatten columns\n",
    "    df.columns.name = None  # Remove the name attribute from columns\n",
    "\n",
    "    # Reset index to include Date column\n",
    "    df.reset_index(inplace=True)\n",
    "    df.set_index('Date', inplace=True)\n",
    "    \n",
    "    # Ensure columns are in correct order\n",
    "    df = df[['Open', 'High', 'Low', 'Close', 'Volume']]\n",
    "    \n",
    "    return df"
   ]
  },
  {
   "cell_type": "markdown",
   "id": "10015958-909b-40e5-8ef8-c12eaf42ab17",
   "metadata": {},
   "source": [
    "## 3️⃣ <span style=\"color: red;\"><b><u>Trading Strategies</u></b></span>"
   ]
  },
  {
   "cell_type": "code",
   "execution_count": 446,
   "id": "15c07d68-ec67-4f50-bfb6-189e37de1ec3",
   "metadata": {},
   "outputs": [],
   "source": [
    "# List of stocks (holdings of FBGRX)\n",
    "holdings = ['MSFT', 'AAPL', 'AMZN', 'GOOGL', 'META']\n",
    "\n",
    "# Define the time period\n",
    "start_date = '2010-01-01'\n",
    "end_date = '2023-12-31'\n",
    "\n",
    "cash_in_hand = 10000\n",
    "brokerage = .002"
   ]
  },
  {
   "cell_type": "markdown",
   "id": "5be95ce6-635d-4c8e-810e-87ccd613b671",
   "metadata": {
    "jp-MarkdownHeadingCollapsed": true
   },
   "source": [
    "### <b> 1. </b> Moving Average Ribbon Strategy [Parv]"
   ]
  },
  {
   "cell_type": "code",
   "execution_count": 54,
   "id": "fd3030d9-cdaf-45e5-82ed-c2507addb6fa",
   "metadata": {},
   "outputs": [],
   "source": [
    "def moving_average_ribbon_strategy(df):\n",
    "    short_window = 10\n",
    "    long_window = 50\n",
    "    df['Short_MA'] = df['Close'].rolling(window=short_window, min_periods=1).mean()\n",
    "    df['Long_MA'] = df['Close'].rolling(window=long_window, min_periods=1).mean()\n",
    "    \n",
    "    df['Signal'] = 0\n",
    "    df['Signal'][short_window:] = np.where(df['Short_MA'][short_window:] > df['Long_MA'][short_window:], 1, 0)\n",
    "    \n",
    "    return df"
   ]
  },
  {
   "cell_type": "markdown",
   "id": "7a546907-fd6a-4554-a899-1203e45e37fd",
   "metadata": {
    "jp-MarkdownHeadingCollapsed": true
   },
   "source": [
    "### <b> 2. </b> SuperTrend Strategy [Parv]"
   ]
  },
  {
   "cell_type": "code",
   "execution_count": 52,
   "id": "bb43bdbf-a916-401a-b778-7b336c5dc1a7",
   "metadata": {},
   "outputs": [],
   "source": [
    "def supertrend_strategy(df, atr_period=7, multiplier=3):\n",
    "    high_low = df['High'] - df['Low']\n",
    "    high_close = np.abs(df['High'] - df['Close'].shift())\n",
    "    low_close = np.abs(df['Low'] - df['Close'].shift())\n",
    "    tr = pd.DataFrame([high_low, high_close, low_close]).max(axis=0)\n",
    "    atr = tr.rolling(atr_period).mean()\n",
    "    \n",
    "    df['Upper_Band'] = (df['High'] + df['Low']) / 2 + (multiplier * atr)\n",
    "    df['Lower_Band'] = (df['High'] + df['Low']) / 2 - (multiplier * atr)\n",
    "    df['Supertrend'] = np.nan\n",
    "    \n",
    "    for i in range(1, len(df)):\n",
    "        if df['Close'][i] > df['Upper_Band'][i - 1]:\n",
    "            df['Supertrend'][i] = df['Lower_Band'][i]\n",
    "        elif df['Close'][i] < df['Lower_Band'][i - 1]:\n",
    "            df['Supertrend'][i] = df['Upper_Band'][i]\n",
    "        else:\n",
    "            df['Supertrend'][i] = df['Supertrend'][i - 1]\n",
    "    \n",
    "    df['Signal'] = np.where(df['Close'] > df['Supertrend'], 1, 0)\n",
    "    \n",
    "    return df"
   ]
  },
  {
   "cell_type": "markdown",
   "id": "4ddf228c-fcdf-460b-a76e-4b4258aef1cc",
   "metadata": {
    "jp-MarkdownHeadingCollapsed": true
   },
   "source": [
    "### <b> 3. </b> Volatility Breakout Strategy [Parv]"
   ]
  },
  {
   "cell_type": "code",
   "execution_count": null,
   "id": "5ce5f68d-4af1-45d3-85bb-6033f8bbc921",
   "metadata": {},
   "outputs": [],
   "source": [
    "def volatility_breakout_strategy(df, lookback=20, multiplier=2):\n",
    "    df['High_Max'] = df['High'].rolling(lookback).max()\n",
    "    df['Low_Min'] = df['Low'].rolling(lookback).min()\n",
    "    df['Range'] = df['High_Max'] - df['Low_Min']\n",
    "    \n",
    "    df['Buy_Level'] = df['Open'] + (multiplier * df['Range'].shift())\n",
    "    df['Sell_Level'] = df['Open'] - (multiplier * df['Range'].shift())\n",
    "    \n",
    "    df['Signal'] = 0\n",
    "    df['Signal'] = np.where(df['Close'] > df['Buy_Level'], 1, df['Signal'])\n",
    "    df['Signal'] = np.where(df['Close'] < df['Sell_Level'], -1, df['Signal'])\n",
    "    \n",
    "    return df"
   ]
  },
  {
   "cell_type": "markdown",
   "id": "7d746acb-7385-456d-b193-41759dc77c32",
   "metadata": {
    "jp-MarkdownHeadingCollapsed": true
   },
   "source": [
    "### <b> 4. </b> Money Flow Index (MFI) Strategy [Anand]"
   ]
  },
  {
   "cell_type": "code",
   "execution_count": 61,
   "id": "8b4d2383-b8da-4e21-a9b8-ee78bb3f29f2",
   "metadata": {},
   "outputs": [],
   "source": [
    "def mfi_strategy(df, period=14):\n",
    "    typical_price = (df['High'] + df['Low'] + df['Close']) / 3\n",
    "    money_flow = typical_price * df['Volume']\n",
    "    \n",
    "    positive_flow = money_flow.copy()\n",
    "    negative_flow = money_flow.copy()\n",
    "    \n",
    "    positive_flow[typical_price < typical_price.shift(1)] = 0\n",
    "    negative_flow[typical_price > typical_price.shift(1)] = 0\n",
    "    \n",
    "    positive_mf = positive_flow.rolling(period).sum()\n",
    "    negative_mf = negative_flow.rolling(period).sum()\n",
    "    \n",
    "    mfi = 100 - (100 / (1 + (positive_mf / negative_mf)))\n",
    "    df['MFI'] = mfi\n",
    "    \n",
    "    df['Signal'] = 0\n",
    "    df['Signal'] = np.where(df['MFI'] < 20, 1, df['Signal'])\n",
    "    df['Signal'] = np.where(df['MFI'] > 80, -1, df['Signal'])\n",
    "    \n",
    "    return df"
   ]
  },
  {
   "cell_type": "markdown",
   "id": "53083d78-1eb3-498a-90ce-703b988775f2",
   "metadata": {
    "jp-MarkdownHeadingCollapsed": true
   },
   "source": [
    "### <b> 5. </b> Volume Price Trend (VPT) Strategy [Anand]"
   ]
  },
  {
   "cell_type": "code",
   "execution_count": 64,
   "id": "e8f8094a-80ee-40d9-83ed-341b773ba0b6",
   "metadata": {},
   "outputs": [],
   "source": [
    "def vpt_strategy(df):\n",
    "    vpt = ((df['Close'].pct_change() + 1).cumprod() - 1) * df['Volume']\n",
    "    df['VPT'] = vpt.cumsum()\n",
    "    \n",
    "    df['Signal'] = 0\n",
    "    df['Signal'] = np.where(df['VPT'] > df['VPT'].shift(), 1, 0)\n",
    "    \n",
    "    return df"
   ]
  },
  {
   "cell_type": "markdown",
   "id": "5b500394-8a47-45d1-bff5-e3dd3d46820e",
   "metadata": {
    "jp-MarkdownHeadingCollapsed": true
   },
   "source": [
    "### <b> 6. </b> Heikin-Ashi Candlesticks Strategy [Anand]"
   ]
  },
  {
   "cell_type": "code",
   "execution_count": 67,
   "id": "116b0d04-6361-468e-8073-aa42e9e24175",
   "metadata": {},
   "outputs": [],
   "source": [
    "def heikin_ashi_strategy(df):\n",
    "    ha_df = df.copy()\n",
    "    ha_df['Close'] = (df['Open'] + df['High'] + df['Low'] + df['Close']) / 4\n",
    "    ha_df['Open'] = (df['Open'].shift() + df['Close'].shift()) / 2\n",
    "    ha_df['High'] = df[['Open', 'Close', 'High']].max(axis=1)\n",
    "    ha_df['Low'] = df[['Open', 'Close', 'Low']].min(axis=1)\n",
    "    \n",
    "    df['HA_Close'] = ha_df['Close']\n",
    "    df['HA_Open'] = ha_df['Open']\n",
    "    \n",
    "    df['Signal'] = 0\n",
    "    df['Signal'] = np.where(df['HA_Close'] > df['HA_Open'], 1, df['Signal'])\n",
    "    df['Signal'] = np.where(df['HA_Close'] < df['HA_Open'], -1, df['Signal'])\n",
    "    \n",
    "    return df"
   ]
  },
  {
   "cell_type": "markdown",
   "id": "2bc4613d-f3ed-49a9-aa37-41999d558a93",
   "metadata": {
    "jp-MarkdownHeadingCollapsed": true
   },
   "source": [
    "### <b> 7. </b> Renko Chart Strategy [Neel] - BUG 🔴"
   ]
  },
  {
   "cell_type": "code",
   "execution_count": 455,
   "id": "76747017-ec42-4f70-8bee-ccb84999453c",
   "metadata": {},
   "outputs": [
    {
     "name": "stderr",
     "output_type": "stream",
     "text": [
      "[*********************100%***********************]  1 of 1 completed\n"
     ]
    },
    {
     "name": "stdout",
     "output_type": "stream",
     "text": [
      "Start                     2010-01-04 00:00:00\n",
      "End                       2023-12-29 00:00:00\n",
      "Duration                   5107 days 00:00:00\n",
      "Exposure Time [%]                         0.0\n",
      "Equity Final [$]                      10000.0\n",
      "Equity Peak [$]                       10000.0\n",
      "Return [%]                                0.0\n",
      "Buy & Hold Return [%]             2418.966407\n",
      "Return (Ann.) [%]                         0.0\n",
      "Volatility (Ann.) [%]                     0.0\n",
      "Sharpe Ratio                              NaN\n",
      "Sortino Ratio                             NaN\n",
      "Calmar Ratio                              NaN\n",
      "Max. Drawdown [%]                        -0.0\n",
      "Avg. Drawdown [%]                         NaN\n",
      "Max. Drawdown Duration                    NaN\n",
      "Avg. Drawdown Duration                    NaN\n",
      "# Trades                                    0\n",
      "Win Rate [%]                              NaN\n",
      "Best Trade [%]                            NaN\n",
      "Worst Trade [%]                           NaN\n",
      "Avg. Trade [%]                            NaN\n",
      "Max. Trade Duration                       NaN\n",
      "Avg. Trade Duration                       NaN\n",
      "Profit Factor                             NaN\n",
      "Expectancy [%]                            NaN\n",
      "SQN                                       NaN\n",
      "_strategy                       RenkoStrategy\n",
      "_equity_curve                          Equ...\n",
      "_trades                   Empty DataFrame\n",
      "...\n",
      "dtype: object\n"
     ]
    }
   ],
   "source": [
    "def calculate_renko(df, brick_size):\n",
    "    df['Direction'] = None\n",
    "    df['Renko'] = None\n",
    "    for i in range(1, len(df)):\n",
    "        if df['Close'][i] >= df['Close'][i-1] + brick_size:\n",
    "            df.loc[df.index[i], 'Direction'] = 'Up'\n",
    "            df.loc[df.index[i], 'Renko'] = df['Close'][i-1] + brick_size\n",
    "        elif df['Close'][i] <= df['Close'][i-1] - brick_size:\n",
    "            df.loc[df.index[i], 'Direction'] = 'Down'\n",
    "            df.loc[df.index[i], 'Renko'] = df['Close'][i-1] - brick_size\n",
    "    df.dropna(inplace=True)\n",
    "    return df[['Renko']]\n",
    "\n",
    "class RenkoStrategy(Strategy):\n",
    "    brick_size = 2  # Define the size of the Renko bricks\n",
    "\n",
    "    def init(self):\n",
    "        # Use the pre-calculated renko data\n",
    "        close_prices = self.data.Close\n",
    "        self.renko = calculate_renko(pd.DataFrame({'Close': close_prices}), brick_size=self.brick_size)['Renko'].values\n",
    "\n",
    "    def next(self):\n",
    "        # Ensure Renko bricks are calculated\n",
    "        if len(self.renko) < 2 or np.isnan(self.renko[-1]) or np.isnan(self.renko[-2]):\n",
    "            return\n",
    "\n",
    "        # Prevent selling if no position is held\n",
    "        if not self.position and self.renko[-1] < self.renko[-2]:\n",
    "            # print(\"Ignoring sell signal because no position is held\")\n",
    "            return\n",
    "\n",
    "        # Simple trading logic based on Renko bricks\n",
    "        # Buy when a new Renko brick is formed upwards\n",
    "        # Sell when a new Renko brick is formed downwards\n",
    "        if self.renko[-1] > self.renko[-2]:\n",
    "            print(\"Buying\")\n",
    "            self.buy()\n",
    "        elif self.renko[-1] < self.renko[-2]:\n",
    "            print(\"Selling\")\n",
    "            self.sell()\n",
    "\n",
    "# Example usage with sample data\n",
    "ticker = 'AAPL'\n",
    "\n",
    "# Download historical data for backtesting\n",
    "df = get_stock_data(ticker, start_date, end_date, '1d')\n",
    "\n",
    "# Backtest the strategy\n",
    "bt = Backtest(df, RenkoStrategy, cash=cash_in_hand, commission=brokerage)\n",
    "stats = bt.run()\n",
    "print(stats)\n",
    "#bt.plot()"
   ]
  },
  {
   "cell_type": "markdown",
   "id": "322bcd99-70f0-469f-bb25-1d4b94a66120",
   "metadata": {
    "jp-MarkdownHeadingCollapsed": true
   },
   "source": [
    "### <b> 8. </b> Mean Reversion with Bollinger Bands and RSI Strategy [Neel] 🟢"
   ]
  },
  {
   "cell_type": "code",
   "execution_count": 450,
   "id": "7c5ad93a-c949-4894-8c9f-19167d9e4505",
   "metadata": {},
   "outputs": [
    {
     "name": "stderr",
     "output_type": "stream",
     "text": [
      "[*********************100%***********************]  1 of 1 completed"
     ]
    },
    {
     "name": "stdout",
     "output_type": "stream",
     "text": [
      "\n",
      "Backtesting strategy for MSFT using MeanReversionBBandRSI\n"
     ]
    },
    {
     "name": "stderr",
     "output_type": "stream",
     "text": [
      "\n",
      "[*********************100%***********************]  1 of 1 completed"
     ]
    },
    {
     "name": "stdout",
     "output_type": "stream",
     "text": [
      "\n",
      "Backtesting strategy for AAPL using MeanReversionBBandRSI\n"
     ]
    },
    {
     "name": "stderr",
     "output_type": "stream",
     "text": [
      "\n",
      "[*********************100%***********************]  1 of 1 completed"
     ]
    },
    {
     "name": "stdout",
     "output_type": "stream",
     "text": [
      "\n",
      "Backtesting strategy for AMZN using MeanReversionBBandRSI\n",
      "\n",
      "Backtesting strategy for GOOGL using MeanReversionBBandRSI\n"
     ]
    },
    {
     "name": "stderr",
     "output_type": "stream",
     "text": [
      "\n",
      "[*********************100%***********************]  1 of 1 completed\n",
      "[*********************100%***********************]  1 of 1 completed\n"
     ]
    },
    {
     "name": "stdout",
     "output_type": "stream",
     "text": [
      "\n",
      "Backtesting strategy for META using MeanReversionBBandRSI\n",
      "    Date  Average Yearly Returns (%)\n",
      "0      0                    0.000000\n",
      "1      1                   -0.415635\n",
      "2      2                    9.672726\n",
      "3      3                   53.600253\n",
      "4      4                   15.406386\n",
      "5      5                   42.661849\n",
      "6      6                    8.951584\n",
      "7      7                   45.199480\n",
      "8      8                    2.775347\n",
      "9      9                   49.832407\n",
      "10    10                   52.392988\n",
      "11    11                   35.165974\n",
      "12    12                  -41.687397\n",
      "13    13                   88.953022\n"
     ]
    }
   ],
   "source": [
    "class MeanReversionBBandRSI(Strategy):\n",
    "    bb_window = 20\n",
    "    rsi_window = 14\n",
    "    upper_bb = 2\n",
    "    lower_bb = 2\n",
    "\n",
    "    def init(self):\n",
    "        # Calculate Bollinger Bands\n",
    "        close_prices = self.data.Close\n",
    "        self.upper_band, self.middle_band, self.lower_band = self.I(talib.BBANDS, close_prices, timeperiod=self.bb_window, nbdevup=self.upper_bb, nbdevdn=self.lower_bb)\n",
    "        \n",
    "        # Calculate RSI\n",
    "        self.rsi = self.I(talib.RSI, close_prices, timeperiod=self.rsi_window)\n",
    "\n",
    "    def next(self):\n",
    "        # Ensure that both Bollinger Bands and RSI are valid before proceeding\n",
    "        if np.isnan(self.upper_band[-1]) or np.isnan(self.lower_band[-1]) or np.isnan(self.rsi[-1]):\n",
    "            return\n",
    "\n",
    "        # Prevent selling if no position is held\n",
    "        if not self.position and self.data.Close[-1] > self.upper_band[-1] and self.rsi[-1] > 70:\n",
    "            # print(\"Ignoring sell signal because no position is held\")\n",
    "            return\n",
    "\n",
    "        # Trading logic based on Bollinger Bands and RSI\n",
    "        if self.data.Close[-1] < self.lower_band[-1] and self.rsi[-1] < 30:\n",
    "            # print(\"Buying\")\n",
    "            self.buy()\n",
    "        elif self.data.Close[-1] > self.upper_band[-1] and self.rsi[-1] > 70:\n",
    "            # print(\"Selling\")\n",
    "            self.sell()\n",
    "\n",
    "# Create a DataFrame to store yearly returns for each stock for MeanReversionBBandRSI strategy\n",
    "yearly_returns_df_2 = pd.DataFrame()\n",
    "\n",
    "# Apply the MeanReversionBBandRSI strategy to each stock and calculate yearly returns\n",
    "for ticker in holdings:\n",
    "    print(f\"\\nBacktesting strategy for {ticker} using MeanReversionBBandRSI\")\n",
    "    \n",
    "    # Download historical data for backtesting\n",
    "    df = get_stock_data(ticker, start_date, end_date, '1d')\n",
    "    \n",
    "    # Backtest the strategy\n",
    "    bt = Backtest(df, MeanReversionBBandRSI, cash=cash_in_hand, commission=brokerage)\n",
    "    stats = bt.run()\n",
    "    \n",
    "    # Extract the equity curve and calculate yearly returns\n",
    "    equity_curve = stats['_equity_curve']['Equity']\n",
    "    yearly_returns = equity_curve.resample('Y').last().pct_change().dropna() * 100\n",
    "    \n",
    "    # Ensure the DataFrame has all years from start_date to end_date\n",
    "    all_years = pd.date_range(start=start_date, end=end_date, freq='Y')\n",
    "    yearly_returns = yearly_returns.reindex(all_years, fill_value=0)\n",
    "    \n",
    "    yearly_returns_df_2[ticker] = yearly_returns.values\n",
    "\n",
    "# Calculate the average yearly returns across all stocks for MeanReversionBBandRSI strategy\n",
    "average_yearly_returns_2 = yearly_returns_df_2.mean(axis=1)\n",
    "\n",
    "# Create a DataFrame with \"Date\" and \"Average Yearly Returns (%)\"\n",
    "average_yearly_returns_df_2 = pd.DataFrame({\n",
    "    'Date': yearly_returns_df_2.index,\n",
    "    'Average Yearly Returns (%)': average_yearly_returns_2\n",
    "})\n",
    "\n",
    "# Print the DataFrame\n",
    "print(average_yearly_returns_df_2)"
   ]
  },
  {
   "cell_type": "markdown",
   "id": "eea01afe-26f1-49bb-adf2-f3194922d8c5",
   "metadata": {},
   "source": [
    "### <b> 9. </b> Dual Moving Average Strategy [Neel] 🟢"
   ]
  },
  {
   "cell_type": "code",
   "execution_count": 480,
   "id": "47a69289-7c86-4f9b-a3ee-1fb67bfecdda",
   "metadata": {},
   "outputs": [
    {
     "name": "stderr",
     "output_type": "stream",
     "text": [
      "[*********************100%***********************]  1 of 1 completed\n",
      "[*********************100%***********************]  1 of 1 completed\n",
      "[*********************100%***********************]  1 of 1 completed\n",
      "[*********************100%***********************]  1 of 1 completed\n",
      "[*********************100%***********************]  1 of 1 completed\n"
     ]
    },
    {
     "name": "stdout",
     "output_type": "stream",
     "text": [
      "    Date  Average Yearly Returns (%)\n",
      "0      0                    0.000000\n",
      "1      1                    0.353620\n",
      "2      2                    4.727065\n",
      "3      3                   43.198191\n",
      "4      4                   15.402299\n",
      "5      5                   42.640870\n",
      "6      6                    8.948171\n",
      "7      7                   45.188422\n",
      "8      8                    2.771133\n",
      "9      9                   49.824177\n",
      "10    10                   52.387181\n",
      "11    11                   35.162610\n",
      "12    12                  -41.686132\n",
      "13    13                   88.953962\n"
     ]
    }
   ],
   "source": [
    "class DualMovingAverage(Strategy):\n",
    "    short_window = 50\n",
    "    long_window = 200\n",
    "\n",
    "    def init(self):\n",
    "        close_prices = self.data.Close\n",
    "        self.short_ma = self.I(talib.SMA, close_prices, timeperiod=self.short_window)\n",
    "        self.long_ma = self.I(talib.SMA, close_prices, timeperiod=self.long_window)\n",
    "\n",
    "    def next(self):\n",
    "        if np.isnan(self.short_ma[-1]) or np.isnan(self.long_ma[-1]):\n",
    "            return\n",
    "\n",
    "        # Prevent selling if there are no positions to sell\n",
    "        if not self.position and crossover(self.long_ma, self.short_ma):\n",
    "            # print(\"Ignoring sell signal because no position is held\")\n",
    "            return\n",
    "\n",
    "        if crossover(self.short_ma, self.long_ma):\n",
    "            # print(\"Buying\")\n",
    "            self.buy()\n",
    "        elif crossover(self.long_ma, self.short_ma):\n",
    "            # print(\"Selling\")\n",
    "            self.sell()\n",
    "            \n",
    "# Create a DataFrame to store yearly returns for each stock\n",
    "yearly_returns_df = pd.DataFrame()\n",
    "\n",
    "# Apply the strategy to each stock and calculate yearly returns\n",
    "for ticker in holdings:\n",
    "    #print(f\"\\nBacktesting strategy for {ticker}\")\n",
    "    \n",
    "    # Download historical data for backtesting\n",
    "    df = get_stock_data(ticker, start_date, end_date, '1d')\n",
    "    \n",
    "    # Backtest the strategy\n",
    "    bt = Backtest(df, DualMovingAverage, cash=cash_in_hand, commission=brokerage)\n",
    "    stats = bt.run()\n",
    "    \n",
    "    # Extract the equity curve and calculate yearly returns\n",
    "    equity_curve = stats['_equity_curve']['Equity']\n",
    "    yearly_returns = equity_curve.resample('Y').last().pct_change().dropna() * 100\n",
    "    \n",
    "    # Ensure the DataFrame has all years from start_date to end_date\n",
    "    all_years = pd.date_range(start=start_date, end=end_date, freq='Y')\n",
    "    yearly_returns = yearly_returns.reindex(all_years, fill_value=0)\n",
    "    \n",
    "    yearly_returns_df[ticker] = yearly_returns.values\n",
    "\n",
    "# Calculate the average yearly returns across all stocks\n",
    "average_yearly_returns = yearly_returns_df.mean(axis=1)\n",
    "\n",
    "# Create a DataFrame with \"Date\" and \"Average Yearly Returns (%)\"\n",
    "average_yearly_returns_df_1 = pd.DataFrame({\n",
    "    'Date': yearly_returns_df.index,\n",
    "    'Average Yearly Returns (%)': average_yearly_returns\n",
    "})\n",
    "\n",
    "# Plot the average yearly returns\n",
    "# plt.figure(figsize=(10, 6))\n",
    "# average_yearly_returns_df_1.plot(x='Date', y='Average Yearly Returns (%)', kind='bar', title=\"Average Yearly Performance of Holdings in FBGRX\", color='skyblue')\n",
    "# plt.xlabel(\"Year\")\n",
    "# plt.ylabel(\"Average Yearly Return (%)\")\n",
    "# plt.show()\n",
    "\n",
    "# Print the DataFrame\n",
    "print(average_yearly_returns_df_1)"
   ]
  },
  {
   "cell_type": "markdown",
   "id": "ee6bb752-fa28-4da2-8722-5399515176f0",
   "metadata": {},
   "source": [
    "## <span style=\"color: brown;\">4️⃣ <u><b>Comparing with TD Mutual Fund</b></u></span>"
   ]
  },
  {
   "cell_type": "code",
   "execution_count": 482,
   "id": "0c694c65-f5ec-445b-aaa6-169916df5e80",
   "metadata": {},
   "outputs": [],
   "source": [
    "# Define the mutual fund ticker\n",
    "mutual_fund_ticker = 'FBGRX'  # Fidelity Blue Chip Growth Fund\n",
    "\n",
    "# Create a Ticker object\n",
    "mutual_fund = yf.Ticker(mutual_fund_ticker)"
   ]
  },
  {
   "cell_type": "code",
   "execution_count": 484,
   "id": "9730f6c5-8460-4173-9990-981374a6ea6f",
   "metadata": {},
   "outputs": [
    {
     "name": "stdout",
     "output_type": "stream",
     "text": [
      "Date\n",
      "2010-12-31 00:00:00-05:00     0.000000\n",
      "2011-12-31 00:00:00-05:00    -2.824663\n",
      "2012-12-31 00:00:00-05:00    17.750631\n",
      "2013-12-31 00:00:00-05:00    39.848323\n",
      "2014-12-31 00:00:00-05:00    14.617588\n",
      "2015-12-31 00:00:00-05:00     6.316555\n",
      "2016-12-31 00:00:00-05:00     1.597576\n",
      "2017-12-31 00:00:00-05:00    36.092880\n",
      "2018-12-31 00:00:00-05:00     1.017671\n",
      "2019-12-31 00:00:00-05:00    33.427740\n",
      "2020-12-31 00:00:00-05:00    62.198221\n",
      "2021-12-31 00:00:00-05:00    22.638959\n",
      "2022-12-31 00:00:00-05:00   -38.449665\n",
      "2023-12-31 00:00:00-05:00    55.608406\n",
      "Freq: YE-DEC, Name: Close, dtype: float64\n"
     ]
    }
   ],
   "source": [
    "historical_data = mutual_fund.history(start=start_date, end=end_date)\n",
    "\n",
    "# Resample data to get yearly data\n",
    "yearly_data = historical_data['Close'].resample('Y').last()\n",
    "mutual_fund_yearly_returns = yearly_data.pct_change().fillna(0) * 100\n",
    "\n",
    "print(mutual_fund_yearly_returns)"
   ]
  },
  {
   "cell_type": "code",
   "execution_count": 472,
   "id": "51eeb614-766c-4a95-b5a3-56fd6143be42",
   "metadata": {},
   "outputs": [
    {
     "data": {
      "text/plain": [
       "<Figure size 1200x800 with 0 Axes>"
      ]
     },
     "metadata": {},
     "output_type": "display_data"
    },
    {
     "data": {
      "image/png": "[encoded data removed]",
      "text/plain": [
       "<Figure size 640x480 with 1 Axes>"
      ]
     },
     "metadata": {},
     "output_type": "display_data"
    }
   ],
   "source": [
    "# Merge data for comparison\n",
    "comparison_df = pd.DataFrame({\n",
    "    'Date': mutual_fund_yearly_returns.index.year,\n",
    "    'Mutual Fund Yearly Returns (%)': mutual_fund_yearly_returns.values,\n",
    "    'Dual Moving Average Strategy Yearly Returns (%)': average_yearly_returns_df_1['Average Yearly Returns (%)'].values,\n",
    "    'BBand and RSI Strategy Yearly Returns (%)': average_yearly_returns_df_2['Average Yearly Returns (%)'].values\n",
    "})\n",
    "\n",
    "# Plot the comparison\n",
    "plt.figure(figsize=(12, 8))\n",
    "comparison_df.set_index('Date').plot(kind='bar', title=\"Comparison of Mutual Fund and Strategies Yearly Returns\")\n",
    "plt.xlabel(\"Year\")\n",
    "plt.ylabel(\"Yearly Return (%)\")\n",
    "plt.legend(loc='best')\n",
    "plt.show()\n",
    "\n",
    "# Print the DataFrame\n",
    "# print(comparison_df)"
   ]
  }
 ],
 "metadata": {
  "kernelspec": {
   "display_name": "Python 3 (ipykernel)",
   "language": "python",
   "name": "python3"
  },
  "language_info": {
   "codemirror_mode": {
    "name": "ipython",
    "version": 3
   },
   "file_extension": ".py",
   "mimetype": "text/x-python",
   "name": "python",
   "nbconvert_exporter": "python",
   "pygments_lexer": "ipython3",
   "version": "3.12.3"
  }
 },
 "nbformat": 4,
 "nbformat_minor": 5
}
