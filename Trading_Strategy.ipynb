{
 "cells": [
  {
   "cell_type": "markdown",
   "id": "70f47d9b-f737-42e8-980e-b340cca3753f",
   "metadata": {},
   "source": [
    "## <span style=\"color: blue;\">1️⃣ <b><u>Import Libraries</u></b> </span>"
   ]
  },
  {
   "cell_type": "code",
   "execution_count": 37,
   "id": "28424601-7dc0-40ca-92c9-0f2e43ba9686",
   "metadata": {},
   "outputs": [],
   "source": [
    "import yfinance as yf\n",
    "import matplotlib.pyplot as plt\n",
    "from datetime import datetime as dt\n",
    "import numpy as np\n",
    "import pandas as pd\n",
    "from backtesting import Backtest, Strategy\n",
    "from backtesting.lib import crossover\n",
    "from backtesting.test import GOOG\n",
    "from pandas_datareader import data as web"
   ]
  },
  {
   "cell_type": "markdown",
   "id": "9b4d933a-c565-4de4-844e-f20486cbda8d",
   "metadata": {},
   "source": [
    "## <span style=\"color: green;\">2️⃣ <b><u>Pull Data From Yahoo Finance</u></b></span>"
   ]
  },
  {
   "cell_type": "code",
   "execution_count": 153,
   "id": "62147ccb-2f2d-405b-9845-35a181433cfc",
   "metadata": {},
   "outputs": [],
   "source": [
    "# Define the function to get stock data\n",
    "def get_stock_data(ticker, start_date, end_date, interval):\n",
    "    df = yf.download(ticker, start=start_date, end=end_date, interval=interval)\n",
    "    df.dropna(inplace=True)\n",
    "    \n",
    "    # Drop the 'Adj Close' column if it exists\n",
    "    if 'Adj Close' in df.columns:\n",
    "        df.drop(columns=['Adj Close'], inplace=True)\n",
    "    \n",
    "    # Ensure single-level column names\n",
    "    df.columns = df.columns.get_level_values(0)  # Flatten columns\n",
    "    df.columns.name = None  # Remove the name attribute from columns\n",
    "    \n",
    "    return df"
   ]
  },
  {
   "cell_type": "markdown",
   "id": "10015958-909b-40e5-8ef8-c12eaf42ab17",
   "metadata": {},
   "source": [
    "## 3️⃣ <span style=\"color: red;\"><b><u>Trading Strategies</u></b></span>"
   ]
  },
  {
   "cell_type": "markdown",
   "id": "5be95ce6-635d-4c8e-810e-87ccd613b671",
   "metadata": {
    "jp-MarkdownHeadingCollapsed": true
   },
   "source": [
    "### <b> 1. </b> Moving Average Ribbon Strategy [Parv]"
   ]
  },
  {
   "cell_type": "code",
   "execution_count": 54,
   "id": "fd3030d9-cdaf-45e5-82ed-c2507addb6fa",
   "metadata": {},
   "outputs": [],
   "source": [
    "def moving_average_ribbon_strategy(df):\n",
    "    short_window = 10\n",
    "    long_window = 50\n",
    "    df['Short_MA'] = df['Close'].rolling(window=short_window, min_periods=1).mean()\n",
    "    df['Long_MA'] = df['Close'].rolling(window=long_window, min_periods=1).mean()\n",
    "    \n",
    "    df['Signal'] = 0\n",
    "    df['Signal'][short_window:] = np.where(df['Short_MA'][short_window:] > df['Long_MA'][short_window:], 1, 0)\n",
    "    \n",
    "    return df"
   ]
  },
  {
   "cell_type": "markdown",
   "id": "7a546907-fd6a-4554-a899-1203e45e37fd",
   "metadata": {
    "jp-MarkdownHeadingCollapsed": true
   },
   "source": [
    "### <b> 2. </b> SuperTrend Strategy [Parv]"
   ]
  },
  {
   "cell_type": "code",
   "execution_count": 52,
   "id": "bb43bdbf-a916-401a-b778-7b336c5dc1a7",
   "metadata": {},
   "outputs": [],
   "source": [
    "def supertrend_strategy(df, atr_period=7, multiplier=3):\n",
    "    high_low = df['High'] - df['Low']\n",
    "    high_close = np.abs(df['High'] - df['Close'].shift())\n",
    "    low_close = np.abs(df['Low'] - df['Close'].shift())\n",
    "    tr = pd.DataFrame([high_low, high_close, low_close]).max(axis=0)\n",
    "    atr = tr.rolling(atr_period).mean()\n",
    "    \n",
    "    df['Upper_Band'] = (df['High'] + df['Low']) / 2 + (multiplier * atr)\n",
    "    df['Lower_Band'] = (df['High'] + df['Low']) / 2 - (multiplier * atr)\n",
    "    df['Supertrend'] = np.nan\n",
    "    \n",
    "    for i in range(1, len(df)):\n",
    "        if df['Close'][i] > df['Upper_Band'][i - 1]:\n",
    "            df['Supertrend'][i] = df['Lower_Band'][i]\n",
    "        elif df['Close'][i] < df['Lower_Band'][i - 1]:\n",
    "            df['Supertrend'][i] = df['Upper_Band'][i]\n",
    "        else:\n",
    "            df['Supertrend'][i] = df['Supertrend'][i - 1]\n",
    "    \n",
    "    df['Signal'] = np.where(df['Close'] > df['Supertrend'], 1, 0)\n",
    "    \n",
    "    return df"
   ]
  },
  {
   "cell_type": "markdown",
   "id": "4ddf228c-fcdf-460b-a76e-4b4258aef1cc",
   "metadata": {
    "jp-MarkdownHeadingCollapsed": true
   },
   "source": [
    "### <b> 3. </b> Volatility Breakout Strategy [Parv]"
   ]
  },
  {
   "cell_type": "code",
   "execution_count": null,
   "id": "5ce5f68d-4af1-45d3-85bb-6033f8bbc921",
   "metadata": {},
   "outputs": [],
   "source": [
    "def volatility_breakout_strategy(df, lookback=20, multiplier=2):\n",
    "    df['High_Max'] = df['High'].rolling(lookback).max()\n",
    "    df['Low_Min'] = df['Low'].rolling(lookback).min()\n",
    "    df['Range'] = df['High_Max'] - df['Low_Min']\n",
    "    \n",
    "    df['Buy_Level'] = df['Open'] + (multiplier * df['Range'].shift())\n",
    "    df['Sell_Level'] = df['Open'] - (multiplier * df['Range'].shift())\n",
    "    \n",
    "    df['Signal'] = 0\n",
    "    df['Signal'] = np.where(df['Close'] > df['Buy_Level'], 1, df['Signal'])\n",
    "    df['Signal'] = np.where(df['Close'] < df['Sell_Level'], -1, df['Signal'])\n",
    "    \n",
    "    return df"
   ]
  },
  {
   "cell_type": "markdown",
   "id": "7d746acb-7385-456d-b193-41759dc77c32",
   "metadata": {
    "jp-MarkdownHeadingCollapsed": true
   },
   "source": [
    "### <b> 4. </b> Money Flow Index (MFI) Strategy [Anand]"
   ]
  },
  {
   "cell_type": "code",
   "execution_count": 61,
   "id": "8b4d2383-b8da-4e21-a9b8-ee78bb3f29f2",
   "metadata": {},
   "outputs": [],
   "source": [
    "def mfi_strategy(df, period=14):\n",
    "    typical_price = (df['High'] + df['Low'] + df['Close']) / 3\n",
    "    money_flow = typical_price * df['Volume']\n",
    "    \n",
    "    positive_flow = money_flow.copy()\n",
    "    negative_flow = money_flow.copy()\n",
    "    \n",
    "    positive_flow[typical_price < typical_price.shift(1)] = 0\n",
    "    negative_flow[typical_price > typical_price.shift(1)] = 0\n",
    "    \n",
    "    positive_mf = positive_flow.rolling(period).sum()\n",
    "    negative_mf = negative_flow.rolling(period).sum()\n",
    "    \n",
    "    mfi = 100 - (100 / (1 + (positive_mf / negative_mf)))\n",
    "    df['MFI'] = mfi\n",
    "    \n",
    "    df['Signal'] = 0\n",
    "    df['Signal'] = np.where(df['MFI'] < 20, 1, df['Signal'])\n",
    "    df['Signal'] = np.where(df['MFI'] > 80, -1, df['Signal'])\n",
    "    \n",
    "    return df"
   ]
  },
  {
   "cell_type": "markdown",
   "id": "53083d78-1eb3-498a-90ce-703b988775f2",
   "metadata": {
    "jp-MarkdownHeadingCollapsed": true
   },
   "source": [
    "### <b> 5. </b> Volume Price Trend (VPT) Strategy [Anand]"
   ]
  },
  {
   "cell_type": "code",
   "execution_count": 64,
   "id": "e8f8094a-80ee-40d9-83ed-341b773ba0b6",
   "metadata": {},
   "outputs": [],
   "source": [
    "def vpt_strategy(df):\n",
    "    vpt = ((df['Close'].pct_change() + 1).cumprod() - 1) * df['Volume']\n",
    "    df['VPT'] = vpt.cumsum()\n",
    "    \n",
    "    df['Signal'] = 0\n",
    "    df['Signal'] = np.where(df['VPT'] > df['VPT'].shift(), 1, 0)\n",
    "    \n",
    "    return df"
   ]
  },
  {
   "cell_type": "markdown",
   "id": "5b500394-8a47-45d1-bff5-e3dd3d46820e",
   "metadata": {
    "jp-MarkdownHeadingCollapsed": true
   },
   "source": [
    "### <b> 6. </b> Heikin-Ashi Candlesticks Strategy [Anand]"
   ]
  },
  {
   "cell_type": "code",
   "execution_count": 67,
   "id": "116b0d04-6361-468e-8073-aa42e9e24175",
   "metadata": {},
   "outputs": [],
   "source": [
    "def heikin_ashi_strategy(df):\n",
    "    ha_df = df.copy()\n",
    "    ha_df['Close'] = (df['Open'] + df['High'] + df['Low'] + df['Close']) / 4\n",
    "    ha_df['Open'] = (df['Open'].shift() + df['Close'].shift()) / 2\n",
    "    ha_df['High'] = df[['Open', 'Close', 'High']].max(axis=1)\n",
    "    ha_df['Low'] = df[['Open', 'Close', 'Low']].min(axis=1)\n",
    "    \n",
    "    df['HA_Close'] = ha_df['Close']\n",
    "    df['HA_Open'] = ha_df['Open']\n",
    "    \n",
    "    df['Signal'] = 0\n",
    "    df['Signal'] = np.where(df['HA_Close'] > df['HA_Open'], 1, df['Signal'])\n",
    "    df['Signal'] = np.where(df['HA_Close'] < df['HA_Open'], -1, df['Signal'])\n",
    "    \n",
    "    return df"
   ]
  },
  {
   "cell_type": "markdown",
   "id": "2bc4613d-f3ed-49a9-aa37-41999d558a93",
   "metadata": {
    "jp-MarkdownHeadingCollapsed": true
   },
   "source": [
    "### <b> 7. </b> Renko Chart Strategy [Neel]"
   ]
  },
  {
   "cell_type": "code",
   "execution_count": 73,
   "id": "76747017-ec42-4f70-8bee-ccb84999453c",
   "metadata": {},
   "outputs": [],
   "source": [
    "def renko_strategy(df, brick_size=2):\n",
    "    renko_df = df.copy()\n",
    "    renko_df['Brick'] = (renko_df['Close'] // brick_size) * brick_size\n",
    "    \n",
    "    renko_df['Uptrend'] = renko_df['Brick'] > renko_df['Brick'].shift()\n",
    "    renko_df['Downtrend'] = renko_df['Brick'] < renko_df['Brick'].shift()\n",
    "    \n",
    "    df['Signal'] = 0\n",
    "    df['Signal'] = np.where(renko_df['Uptrend'], 1, df['Signal'])\n",
    "    df['Signal'] = np.where(renko_df['Downtrend'], -1, df['Signal'])\n",
    "    \n",
    "    return df"
   ]
  },
  {
   "cell_type": "markdown",
   "id": "322bcd99-70f0-469f-bb25-1d4b94a66120",
   "metadata": {
    "jp-MarkdownHeadingCollapsed": true
   },
   "source": [
    "### <b> 8. </b> Mean Reversion with Bollinger Bands and RSI Strategy [Neel]"
   ]
  },
  {
   "cell_type": "code",
   "execution_count": 79,
   "id": "7c5ad93a-c949-4894-8c9f-19167d9e4505",
   "metadata": {},
   "outputs": [],
   "source": [
    "def bollinger_bands_rsi_strategy(df, bb_period=20, rsi_period=14):\n",
    "    df['MA20'] = df['Close'].rolling(window=bb_period).mean()\n",
    "    df['BB_Upper'] = df['MA20'] + 2 * df['Close'].rolling(window=bb_period).std()\n",
    "    df['BB_Lower'] = df['MA20'] - 2 * df['Close'].rolling(window=bb_period).std()\n",
    "    \n",
    "    delta = df['Close'].diff()\n",
    "    gain = (delta.where(delta > 0, 0)).rolling(window=rsi_period).mean()\n",
    "    loss = (-delta.where(delta < 0, 0)).rolling(window=rsi_period).mean()\n",
    "    rs = gain / loss\n",
    "    df['RSI'] = 100 - (100 / (1 + rs))\n",
    "    \n",
    "    df['Signal'] = 0\n",
    "    df['Signal'] = np.where((df['Close'] < df['BB_Lower']) & (df['RSI'] < 30), 1, df['Signal'])\n",
    "    df['Signal'] = np.where((df['Close'] > df['BB_Upper']) & (df['RSI'] > 70), -1, df['Signal'])\n",
    "    \n",
    "    return df"
   ]
  },
  {
   "cell_type": "markdown",
   "id": "eea01afe-26f1-49bb-adf2-f3194922d8c5",
   "metadata": {},
   "source": [
    "### <b> 9. </b> Dual Moving Average Strategy [Neel]"
   ]
  },
  {
   "cell_type": "code",
   "execution_count": 251,
   "id": "47a69289-7c86-4f9b-a3ee-1fb67bfecdda",
   "metadata": {},
   "outputs": [
    {
     "name": "stderr",
     "output_type": "stream",
     "text": [
      "[*********************100%***********************]  1 of 1 completed\n"
     ]
    },
    {
     "data": {
      "text/html": [
       "<div>\n",
       "<style scoped>\n",
       "    .dataframe tbody tr th:only-of-type {\n",
       "        vertical-align: middle;\n",
       "    }\n",
       "\n",
       "    .dataframe tbody tr th {\n",
       "        vertical-align: top;\n",
       "    }\n",
       "\n",
       "    .dataframe thead th {\n",
       "        text-align: right;\n",
       "    }\n",
       "</style>\n",
       "<table border=\"1\" class=\"dataframe\">\n",
       "  <thead>\n",
       "    <tr style=\"text-align: right;\">\n",
       "      <th></th>\n",
       "      <th>Open</th>\n",
       "      <th>High</th>\n",
       "      <th>Low</th>\n",
       "      <th>Close</th>\n",
       "      <th>Volume</th>\n",
       "    </tr>\n",
       "    <tr>\n",
       "      <th>Date</th>\n",
       "      <th></th>\n",
       "      <th></th>\n",
       "      <th></th>\n",
       "      <th></th>\n",
       "      <th></th>\n",
       "    </tr>\n",
       "  </thead>\n",
       "  <tbody>\n",
       "    <tr>\n",
       "      <th>2015-01-02</th>\n",
       "      <td>27.847500</td>\n",
       "      <td>27.860001</td>\n",
       "      <td>26.837500</td>\n",
       "      <td>27.332500</td>\n",
       "      <td>212818400</td>\n",
       "    </tr>\n",
       "    <tr>\n",
       "      <th>2015-01-05</th>\n",
       "      <td>27.072500</td>\n",
       "      <td>27.162500</td>\n",
       "      <td>26.352501</td>\n",
       "      <td>26.562500</td>\n",
       "      <td>257142000</td>\n",
       "    </tr>\n",
       "    <tr>\n",
       "      <th>2015-01-06</th>\n",
       "      <td>26.635000</td>\n",
       "      <td>26.857500</td>\n",
       "      <td>26.157499</td>\n",
       "      <td>26.565001</td>\n",
       "      <td>263188400</td>\n",
       "    </tr>\n",
       "    <tr>\n",
       "      <th>2015-01-07</th>\n",
       "      <td>26.799999</td>\n",
       "      <td>27.049999</td>\n",
       "      <td>26.674999</td>\n",
       "      <td>26.937500</td>\n",
       "      <td>160423600</td>\n",
       "    </tr>\n",
       "    <tr>\n",
       "      <th>2015-01-08</th>\n",
       "      <td>27.307501</td>\n",
       "      <td>28.037500</td>\n",
       "      <td>27.174999</td>\n",
       "      <td>27.972500</td>\n",
       "      <td>237458000</td>\n",
       "    </tr>\n",
       "  </tbody>\n",
       "</table>\n",
       "</div>"
      ],
      "text/plain": [
       "                 Open       High        Low      Close     Volume\n",
       "Date                                                             \n",
       "2015-01-02  27.847500  27.860001  26.837500  27.332500  212818400\n",
       "2015-01-05  27.072500  27.162500  26.352501  26.562500  257142000\n",
       "2015-01-06  26.635000  26.857500  26.157499  26.565001  263188400\n",
       "2015-01-07  26.799999  27.049999  26.674999  26.937500  160423600\n",
       "2015-01-08  27.307501  28.037500  27.174999  27.972500  237458000"
      ]
     },
     "execution_count": 251,
     "metadata": {},
     "output_type": "execute_result"
    }
   ],
   "source": [
    "class DualMovingAverage(Strategy):\n",
    "    short_window = 50\n",
    "    long_window = 200\n",
    "\n",
    "    def init(self):\n",
    "        # Calculate short and long moving averages\n",
    "        close_prices = self.data.Close\n",
    "        print(close_prices)\n",
    "        self.short_ma = pd.Series(close_prices).rolling(window=self.short_window, min_periods=self.short_window).mean().values\n",
    "        self.long_ma = pd.Series(close_prices).rolling(window=self.long_window, min_periods=self.long_window).mean().values\n",
    "        print(self.short_ma)\n",
    "        print(self.long_ma)\n",
    "\n",
    "    def next(self):\n",
    "        #print(\"Trying to Transact\")\n",
    "        # Ensure that both moving averages are valid before proceeding \n",
    "        if np.isnan(self.short_ma[-1]) or np.isnan(self.long_ma[-1]):\n",
    "            print(\"Ignoring because of NA\")\n",
    "            return\n",
    "        # Trading logic based on the crossover of moving averages\n",
    "        if crossover(self.short_ma, self.long_ma):\n",
    "            print(\"Buying\")\n",
    "            self.buy()\n",
    "        elif crossover(self.long_ma, self.short_ma):\n",
    "            print(\"Selling\")\n",
    "            self.sell()\n",
    "            \n",
    "# Example usage with sample data\n",
    "ticker = 'AAPL'\n",
    "start_date = '2015-01-01'\n",
    "end_date = '2021-01-01'\n",
    "\n",
    "# Download historical data for backtesting\n",
    "df = get_stock_data(ticker, start_date, end_date, '1d')\n",
    "\n",
    "# Drop the 'Adj Close' column if it exists\n",
    "if 'Adj Close' in df.columns:\n",
    "    df.drop(columns=['Adj Close'], inplace=True)\n",
    "\n",
    "# Ensure single-level column names\n",
    "df.columns = df.columns.get_level_values(0)  # Flatten columns\n",
    "df.columns.name = None  # Remove the name attribute from columns\n",
    "\n",
    "# Reset index to include Date column\n",
    "df.reset_index(inplace=True)\n",
    "df.set_index('Date', inplace=True)\n",
    "\n",
    "# Ensure columns are in correct order\n",
    "df = df[['Open', 'High', 'Low', 'Close', 'Volume']]\n",
    "\n",
    "df.head()\n",
    "# Calculate short and long moving averages\n",
    "#short_window = 50\n",
    "#long_window = 200\n",
    "\n",
    "#df['Short_MA'] = df['Close'].rolling(window=short_window, min_periods=1).mean()\n",
    "#df['Long_MA'] = df['Close'].rolling(window=long_window, min_periods=1).mean()\n",
    "\n",
    "# Display the DataFrame with the new columns\n",
    "#print(df.head())\n",
    "\n",
    "# Backtest the strategy\n",
    "#bt = Backtest(df, DualMovingAverage, cash=10000, commission=.002)\n",
    "#stats = bt.run()\n",
    "#print(stats)\n",
    "#bt.plot()"
   ]
  },
  {
   "cell_type": "code",
   "execution_count": 159,
   "id": "43f8a4c8-d898-4efa-a90f-cabc540eec8f",
   "metadata": {},
   "outputs": [
    {
     "name": "stdout",
     "output_type": "stream",
     "text": [
      "                 Open       High        Low      Close     Volume\n",
      "Date                                                             \n",
      "2015-01-02  27.847500  27.860001  26.837500  27.332500  212818400\n",
      "2015-01-05  27.072500  27.162500  26.352501  26.562500  257142000\n",
      "2015-01-06  26.635000  26.857500  26.157499  26.565001  263188400\n",
      "2015-01-07  26.799999  27.049999  26.674999  26.937500  160423600\n",
      "2015-01-08  27.307501  28.037500  27.174999  27.972500  237458000\n"
     ]
    }
   ],
   "source": [
    "# Drop the 'Adj Close' column if it exists\n",
    "if 'Adj Close' in df.columns:\n",
    "    df.drop(columns=['Adj Close'], inplace=True)\n",
    "\n",
    "# Ensure single-level column names\n",
    "df.columns = df.columns.get_level_values(0)  # Flatten columns\n",
    "df.columns.name = None  # Remove the name attribute from columns\n",
    "\n",
    "# Reset index to include Date column\n",
    "df.reset_index(inplace=True)\n",
    "df.set_index('Date', inplace=True)\n",
    "\n",
    "# Ensure columns are in correct order\n",
    "df = df[['Open', 'High', 'Low', 'Close', 'Volume']]\n",
    "\n",
    "# Display the DataFrame\n",
    "print(df.head())\n"
   ]
  },
  {
   "cell_type": "markdown",
   "id": "b40cc8ff-cddc-441e-a858-568e32101d5c",
   "metadata": {},
   "source": [
    "## <span style=\"color: purple;\">4️⃣ <b><u>Backtesting</u></b></span>"
   ]
  },
  {
   "cell_type": "code",
   "execution_count": 21,
   "id": "3c6e0f19-fe6e-4619-a6ac-1e168b077d6d",
   "metadata": {},
   "outputs": [],
   "source": [
    "# Function to backtest a given trading strategy\n",
    "def backtest_strategy(strategy, df):\n",
    "    bt = Backtest(df, strategy, cash=10000, commission=.002)\n",
    "    stats = bt.run()\n",
    "    bt.plot()\n",
    "    return stats"
   ]
  },
  {
   "cell_type": "markdown",
   "id": "ee6bb752-fa28-4da2-8722-5399515176f0",
   "metadata": {},
   "source": [
    "## <span style=\"color: brown;\">5️⃣ <u><b>Comparing with TD Mutual Fund</b></u></span>"
   ]
  },
  {
   "cell_type": "code",
   "execution_count": 40,
   "id": "c6427850-1c9d-480c-bafc-4843ebaa5cfc",
   "metadata": {},
   "outputs": [],
   "source": [
    "# Function to compare trading strategy with a mutual fund\n",
    "def compare_with_mutual_fund(strategy_results, mutual_fund_data):\n",
    "    combined_data = pd.concat([strategy_results['_equity_curve']['Equity'], mutual_fund_data], axis=1)\n",
    "    combined_data.columns = ['Strategy Equity', 'Mutual Fund']\n",
    "    combined_data.plot(figsize=(12, 6), title='Strategy vs Mutual Fund Comparison')\n",
    "    plt.ylabel('Equity')\n",
    "    plt.show()\n",
    "\n",
    "# Function to load mutual fund data\n",
    "def get_mutual_fund_data(ticker, start_date, end_date, interval='1d'):\n",
    "    return get_stock_data(ticker, start_date, end_date, interval)['Close']\n",
    "\n",
    "# Example usage with a placeholder trading strategy\n",
    "def trading_strategy(df):\n",
    "    # Placeholder strategy - Buy and hold\n",
    "    df['Signal'] = 1\n",
    "    return df"
   ]
  }
 ],
 "metadata": {
  "kernelspec": {
   "display_name": "Python 3 (ipykernel)",
   "language": "python",
   "name": "python3"
  },
  "language_info": {
   "codemirror_mode": {
    "name": "ipython",
    "version": 3
   },
   "file_extension": ".py",
   "mimetype": "text/x-python",
   "name": "python",
   "nbconvert_exporter": "python",
   "pygments_lexer": "ipython3",
   "version": "3.12.3"
  }
 },
 "nbformat": 4,
 "nbformat_minor": 5
}
